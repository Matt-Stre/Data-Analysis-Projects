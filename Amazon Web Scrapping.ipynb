{
 "cells": [
  {
   "cell_type": "code",
   "execution_count": 4,
   "id": "31f42709",
   "metadata": {},
   "outputs": [],
   "source": [
    "#Import packages\n",
    "from bs4 import BeautifulSoup\n",
    "import time\n",
    "import datetime\n",
    "import smtplib\n",
    "import requests\n",
    "import csv\n",
    "import pandas as pd"
   ]
  },
  {
   "cell_type": "code",
   "execution_count": 7,
   "id": "35d3cd57",
   "metadata": {},
   "outputs": [
    {
     "name": "stdout",
     "output_type": "stream",
     "text": [
      "Valve Index VR Full Kit\n",
      "1,365.94\n"
     ]
    }
   ],
   "source": [
    "#Connecting to Amazon\n",
    "\n",
    "URL = 'https://www.amazon.com/Valve-Index-VR-Full-Kit-PC/dp/B07VPRVBFF/ref=sr_1_4?crid=37ASK7AILPPVA&keywords=valve+vr+headset&qid=1651003337&sprefix=valve+vr+headset%2Caps%2C86&sr=8-4'\n",
    "\n",
    "headers = {\"User-Agent\": \"Mozilla/5.0 (Windows NT 10.0; Win64; x64) AppleWebKit/537.36 (KHTML, like Gecko) Chrome/100.0.4896.127 Safari/537.36\", \"Accept-Encoding\":\"gzip, deflate\", \"Accept\":\"text/html,application/xhtml+xml,application/xml;q=0.9,*/*;q=0.8\", \"DNT\":\"1\",\"Connection\":\"close\", \"Upgrade-Insecure-Requests\":\"1\"}\n",
    "\n",
    "page = requests.get(URL, headers=headers)\n",
    "\n",
    "soup1 = BeautifulSoup(page.content, \"html.parser\")\n",
    "soup2 = BeautifulSoup(soup1.prettify(), 'html.parser')\n",
    "\n",
    "title = soup2.find(id='productTitle').get_text()\n",
    "title = title.strip()\n",
    "\n",
    "price = soup2.find('span', 'a-offscreen').get_text()\n",
    "price = price.strip()[1:]"
   ]
  },
  {
   "cell_type": "code",
   "execution_count": null,
   "id": "4830bba0",
   "metadata": {},
   "outputs": [],
   "source": [
    "#Adding timestamo\n",
    "today = datetime.date.today()\n",
    "print(today)"
   ]
  },
  {
   "cell_type": "code",
   "execution_count": 9,
   "id": "13e6bde5",
   "metadata": {},
   "outputs": [],
   "source": [
    "#Creating CSV\n",
    "\n",
    "header = ['Title', 'Price', 'Date']\n",
    "data = [title, price, today]\n",
    "\n",
    "#Commented out to not delete dataset\n",
    "#with open('ValveIndexPriceTracker.csv', 'w', newline='', encoding = 'UTF8') as f:\n",
    "        #writer = csv.writer(f)\n",
    "        #writer.writerow(header)\n",
    "        #writer.writerow(data)"
   ]
  },
  {
   "cell_type": "code",
   "execution_count": 11,
   "id": "156aa7b5",
   "metadata": {},
   "outputs": [
    {
     "name": "stdout",
     "output_type": "stream",
     "text": [
      "                     Title     Price        Date\n",
      "0  Valve Index VR Full Kit  1,365.94  2022-04-26\n"
     ]
    }
   ],
   "source": [
    "#Reading data\n",
    "df = pd.read_csv(r'C:\\Users\\ms904\\ValveIndexPriceTracker.csv')\n",
    "print(df)"
   ]
  },
  {
   "cell_type": "code",
   "execution_count": 95,
   "id": "deb446df",
   "metadata": {},
   "outputs": [],
   "source": [
    "#Appending data\n",
    "with open('ValveIndexPriceTracker.csv', 'a+', newline='', encoding = 'UTF8') as f:\n",
    "        writer = csv.writer(f)\n",
    "        writer.writerow(data)"
   ]
  },
  {
   "cell_type": "code",
   "execution_count": 12,
   "id": "66b730ff",
   "metadata": {},
   "outputs": [],
   "source": [
    "#Creating final function\n",
    "def check_price():\n",
    "    URL = 'https://www.amazon.com/Valve-Index-VR-Full-Kit-PC/dp/B07VPRVBFF/ref=sr_1_4?crid=37ASK7AILPPVA&keywords=valve+vr+headset&qid=1651003337&sprefix=valve+vr+headset%2Caps%2C86&sr=8-4'\n",
    "\n",
    "    headers = {\"User-Agent\": \"Mozilla/5.0 (Windows NT 10.0; Win64; x64) AppleWebKit/537.36 (KHTML, like Gecko) Chrome/100.0.4896.127 Safari/537.36\", \"Accept-Encoding\":\"gzip, deflate\", \"Accept\":\"text/html,application/xhtml+xml,application/xml;q=0.9,*/*;q=0.8\", \"DNT\":\"1\",\"Connection\":\"close\", \"Upgrade-Insecure-Requests\":\"1\"}\n",
    "\n",
    "    page = requests.get(URL, headers=headers)\n",
    "\n",
    "    soup1 = BeautifulSoup(page.content, \"html.parser\")\n",
    "    soup2 = BeautifulSoup(soup1.prettify(), 'html.parser')\n",
    "\n",
    "    title = soup2.find(id='productTitle').get_text()\n",
    "    title = title.strip()\n",
    "\n",
    "    price = soup2.find('span', 'a-offscreen').get_text()\n",
    "    price = price.strip()[1:]\n",
    "    \n",
    "    today = datetime.date.today()\n",
    "    \n",
    "    header = ['Title', 'Price', 'Date']\n",
    "    data = [title, price, today]\n",
    "\n",
    "    with open('ValveIndexPriceTracker.csv', 'a+', newline='', encoding = 'UTF8') as f:\n",
    "        writer = csv.writer(f)\n",
    "        writer.writerow(data)\n",
    "    \n",
    "    #Price alert \n",
    "    if(price <750)\n",
    "        send_mail()"
   ]
  },
  {
   "cell_type": "code",
   "execution_count": null,
   "id": "6ca6b14a",
   "metadata": {},
   "outputs": [],
   "source": [
    "#Set timer for monthly alerts\n",
    "while(True):\n",
    "    check_price()\n",
    "    time.sleep(2628500)"
   ]
  },
  {
   "cell_type": "code",
   "execution_count": null,
   "id": "71baa6b6",
   "metadata": {},
   "outputs": [],
   "source": [
    "#Template for sending email\n",
    "def send_mail():\n",
    "    server = smtplib.SMTP_SSL('smtp.gmail.com',465)\n",
    "    server.ehlo()\n",
    "    #server.starttls()\n",
    "    server.ehlo()\n",
    "    server.login('Username','Password')\n",
    "    \n",
    "    subject = \"The Valve Index VR Full Kit you want is below $750! Now is your chance to buy!\"\n",
    "    body = \"The Valve Index VR Full Kit you want is below $750! Now is your chance to buy!\"\n",
    "   \n",
    "    msg = f\"Subject: {subject}\\n\\n{body}\"\n",
    "    \n",
    "    server.sendmail(\n",
    "        'EmailAddress@gmail.com',\n",
    "        msg\n",
    "     "
   ]
  }
 ],
 "metadata": {
  "kernelspec": {
   "display_name": "Python 3 (ipykernel)",
   "language": "python",
   "name": "python3"
  },
  "language_info": {
   "codemirror_mode": {
    "name": "ipython",
    "version": 3
   },
   "file_extension": ".py",
   "mimetype": "text/x-python",
   "name": "python",
   "nbconvert_exporter": "python",
   "pygments_lexer": "ipython3",
   "version": "3.10.2"
  }
 },
 "nbformat": 4,
 "nbformat_minor": 5
}
